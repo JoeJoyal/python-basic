{
 "cells": [
  {
   "cell_type": "code",
   "execution_count": 6,
   "metadata": {},
   "outputs": [
    {
     "name": "stdout",
     "output_type": "stream",
     "text": [
      "you can go now\n"
     ]
    }
   ],
   "source": [
    "light = \"green\"\n",
    "if light == 'green':\n",
    "    print(\"you can go now\")"
   ]
  },
  {
   "cell_type": "code",
   "execution_count": 8,
   "metadata": {},
   "outputs": [
    {
     "data": {
      "text/plain": [
       "True"
      ]
     },
     "execution_count": 8,
     "metadata": {},
     "output_type": "execute_result"
    }
   ],
   "source": [
    "light == \"green\""
   ]
  },
  {
   "cell_type": "code",
   "execution_count": 9,
   "metadata": {},
   "outputs": [
    {
     "name": "stdout",
     "output_type": "stream",
     "text": [
      "you have to stop\n"
     ]
    }
   ],
   "source": [
    "light = \"red\"\n",
    "if light == 'green':\n",
    "    print(\"you can go now\")\n",
    "elif light == 'red':\n",
    "    print(\"you have to stop\")\n",
    "else:\n",
    "    print(\"you can start now\")"
   ]
  },
  {
   "cell_type": "code",
   "execution_count": 11,
   "metadata": {},
   "outputs": [
    {
     "data": {
      "text/plain": [
       "False"
      ]
     },
     "execution_count": 11,
     "metadata": {},
     "output_type": "execute_result"
    }
   ],
   "source": [
    "light == \"green\""
   ]
  },
  {
   "cell_type": "code",
   "execution_count": 4,
   "metadata": {},
   "outputs": [
    {
     "name": "stdout",
     "output_type": "stream",
     "text": [
      "you can start now\n"
     ]
    }
   ],
   "source": [
    "light = \"yellow\"\n",
    "if light == 'green':\n",
    "    print(\"you can go now\")\n",
    "elif light == 'red':\n",
    "    print(\"you have to stop\")\n",
    "else:\n",
    "    print(\"you can start now\")"
   ]
  },
  {
   "cell_type": "code",
   "execution_count": null,
   "metadata": {},
   "outputs": [],
   "source": [
    "int(input())"
   ]
  },
  {
   "cell_type": "code",
   "execution_count": 3,
   "metadata": {},
   "outputs": [
    {
     "name": "stdout",
     "output_type": "stream",
     "text": [
      "you can start now\n"
     ]
    }
   ],
   "source": [
    "light = input(\"enter the light situation\")\n",
    "if light == 'Green':\n",
    "    print(\"you can go now\")\n",
    "elif light == 'red':\n",
    "    print(\"you have to stop\")\n",
    "else:\n",
    "    print(\"you can start now\")"
   ]
  },
  {
   "cell_type": "code",
   "execution_count": 2,
   "metadata": {},
   "outputs": [
    {
     "name": "stdout",
     "output_type": "stream",
     "text": [
      "you can go now\n"
     ]
    }
   ],
   "source": [
    "light = input(\"enter the light situation\")\n",
    "if light == 'Green'.lower():\n",
    "    print(\"you can go now\")\n",
    "elif light == 'red':\n",
    "    print(\"you have to stop\")\n",
    "else:\n",
    "    print(\"you can start now\")"
   ]
  },
  {
   "cell_type": "code",
   "execution_count": 8,
   "metadata": {},
   "outputs": [
    {
     "name": "stdout",
     "output_type": "stream",
     "text": [
      "userId: root password: euron\n",
      "please check your user id\n"
     ]
    }
   ],
   "source": [
    "userid = input(\"enter your user name\")\n",
    "password = input(\"enter the password\")\n",
    "print(\"userId:\", userid, \"password:\", password)\n",
    "\n",
    "if userid == \"rootlearning\" and password == \"euron\":\n",
    "    print(\"its a vaild user id you are allowed to login\")\n",
    "elif userid != \"rootlearning\" and password != \"euron\":\n",
    "    print(\"both are incorrect\")\n",
    "elif userid != \"rootlearning\":\n",
    "    print(\"please check your user id\")\n",
    "else:\n",
    "    print(\"you have incorrect password\")"
   ]
  },
  {
   "cell_type": "markdown",
   "metadata": {},
   "source": [
    "**Type Casting** int(input()) "
   ]
  },
  {
   "cell_type": "code",
   "execution_count": 9,
   "metadata": {},
   "outputs": [
    {
     "name": "stdout",
     "output_type": "stream",
     "text": [
      "4 entered number is even number\n"
     ]
    }
   ],
   "source": [
    "number = int(input(\"enter your number\"))\n",
    "\n",
    "if number % 2 == 0:\n",
    "    print(number, \"entered number is even number\")\n",
    "else:\n",
    "    print(\"number is add number\")"
   ]
  },
  {
   "cell_type": "code",
   "execution_count": 11,
   "metadata": {},
   "outputs": [
    {
     "data": {
      "text/plain": [
       "1"
      ]
     },
     "execution_count": 11,
     "metadata": {},
     "output_type": "execute_result"
    }
   ],
   "source": [
    "4%3"
   ]
  },
  {
   "cell_type": "code",
   "execution_count": null,
   "metadata": {},
   "outputs": [],
   "source": [
    "basic_course = input(\"enter the course name\")\n",
    "advance_course = input(\"enter the course name\")\n",
    "\n",
    "if basic_course == \"python\":\n",
    "    if advance_course == \"data science\":\n",
    "        print(\"you will become data scientist\")\n",
    "    elif advance_course == \"big data\":\n",
    "        print(\"you will become data engineer\")\n",
    "    elif advance_course == \"data analytics\":\n",
    "        print(\"you will become business analytics\")\n",
    "    elif advance_course == \"gen ai\":\n",
    "        print(\"you will become gen ai engineer\")\n",
    "else:\n",
    "    if basic_course == \"java script\":\n",
    "        print(\"you will become frotend or backend engineer\")"
   ]
  },
  {
   "cell_type": "code",
   "execution_count": null,
   "metadata": {},
   "outputs": [],
   "source": []
  },
  {
   "cell_type": "markdown",
   "metadata": {},
   "source": [
    "### <font color='green'> Assignment </font>"
   ]
  },
  {
   "cell_type": "markdown",
   "metadata": {},
   "source": [
    "**Basic Problems:-** \n",
    "\n",
    "1. Write a program to check if a number is positive, negative, or zero.\n",
    "2. Write a program to determine if a given year is a leap year.\n",
    "3. Create a program that checks if a number is even or odd.\n",
    "4. Write a program to determine if a given character is a vowel or a consonant.\n",
    "5. Write a program to check if a person is eligible to vote based on their age.\n",
    "6. Write a program to find the largest of three numbers entered by the user.\n",
    "7. Write a program to check if a given number is divisible by 5 and 11.\n",
    "8. Write a program to categorize a person’s BMI into underweight, normal weight, overweight, or obese.\n",
    "9. Write a program to determine the type of triangle based on the lengths of its sides (equilateral, isosceles, or scalene).\n",
    "10. Write a program to determine if a character entered by the user is uppercase, lowercase, or a digit.\n",
    "\n",
    "\n",
    "\n",
    "**Intermediate Problems:-**\n",
    "\n",
    "1. Write a program to calculate the grade of a student based on their marks using multiple elif conditions.\n",
    "2. Write a program to simulate a traffic light system (red, yellow, green).\n",
    "3. Write a program to calculate the electricity bill based on slab rates for different units.\n",
    "4. Create a program to determine if a given string starts with a vowel or not.\n",
    "5. Write a program to calculate the income tax for a user based on their income slab.\n",
    "6. Write a program that checks if a given number is prime or not using conditional statements.\n",
    "7. Write a program to determine if a number is a palindrome or not.\n",
    "8. Write a program to display the menu of a coffee shop and take the user’s order based on input.\n",
    "9. Write a program to check whether a person is eligible for a senior citizen discount based on their age.\n",
    "10. Write a program to categorize a person’s weight based on the following conditions:\n",
    "    Underweight: BMI < 18.5\n",
    "    Normal weight: 18.5 ≤ BMI < 24.9\n",
    "    Overweight: 25 ≤ BMI < 29.9\n",
    "    Obese: BMI ≥ 30\n",
    "\n",
    "\n",
    "**Advanced Problems:-**\n",
    "\n",
    "1. Write a program to determine if a number is a strong number (sum of factorials of its digits equals the number itself).\n",
    "2. Write a program to simulate a basic ATM system, allowing the user to check balance, deposit, or withdraw money.\n",
    "3. Write a program to categorize the season based on the input month (e.g., winter, summer, monsoon).\n",
    "4. Write a program to calculate a discount based on the purchase amount:\n",
    "5. Above ₹5000: 20% discount\n",
    "6. ₹3000-₹5000: 15% discount\n",
    "7. ₹1000-₹3000: 10% discount\n",
    "8. Below ₹1000: 5% discount\n",
    "9. Write a program to classify a number as positive, negative, or zero, and further as even or odd if it is non-zero.\n",
    "10. Write a program to validate a password:\n",
    "11. Minimum 8 characters\n",
    "12. Contains at least one uppercase letter, one lowercase letter, one digit, and one special character.\n",
    "13. Write a program to determine the day of the week based on an input number (1 for Monday, 7 for Sunday).\n",
    "14. Write a program to implement a grading system for employees based on their performance rating.\n",
    "15. Write a program to check whether a given number is part of the Fibonacci sequence or not.\n",
    "16. Write a program to determine the zodiac sign of a person based on their birthdate.\n",
    "\n",
    "sudhanshu@euron.one"
   ]
  },
  {
   "cell_type": "markdown",
   "metadata": {},
   "source": []
  }
 ],
 "metadata": {
  "kernelspec": {
   "display_name": "base",
   "language": "python",
   "name": "python3"
  },
  "language_info": {
   "codemirror_mode": {
    "name": "ipython",
    "version": 3
   },
   "file_extension": ".py",
   "mimetype": "text/x-python",
   "name": "python",
   "nbconvert_exporter": "python",
   "pygments_lexer": "ipython3",
   "version": "3.7.6"
  }
 },
 "nbformat": 4,
 "nbformat_minor": 2
}
