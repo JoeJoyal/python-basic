{
 "cells": [
  {
   "cell_type": "code",
   "execution_count": 1,
   "metadata": {},
   "outputs": [
    {
     "name": "stderr",
     "output_type": "stream",
     "text": [
      "c:\\Users\\Joejoyal\\anaconda3\\lib\\importlib\\_bootstrap.py:219: RuntimeWarning: numpy.ufunc size changed, may indicate binary incompatibility. Expected 192 from C header, got 216 from PyObject\n",
      "  return f(*args, **kwds)\n",
      "c:\\Users\\Joejoyal\\anaconda3\\lib\\importlib\\_bootstrap.py:219: RuntimeWarning: numpy.ufunc size changed, may indicate binary incompatibility. Expected 192 from C header, got 216 from PyObject\n",
      "  return f(*args, **kwds)\n"
     ]
    }
   ],
   "source": [
    "import numpy as np\n",
    "import pandas as pd\n",
    "import matplotlib.pyplot as plt\n",
    "import seaborn as sns\n",
    "\n",
    "from sklearn.model_selection import train_test_split\n",
    "from sklearn.preprocessing import StandardScaler, LabelEncoder\n",
    "from sklearn.svm import SVC\n",
    "from sklearn.metrics import accuracy_score,classification_report,confusion_matrix\n",
    "import joblib"
   ]
  },
  {
   "cell_type": "code",
   "execution_count": 2,
   "metadata": {},
   "outputs": [],
   "source": [
    "from sklearn.datasets import load_iris"
   ]
  },
  {
   "cell_type": "code",
   "execution_count": 3,
   "metadata": {},
   "outputs": [],
   "source": [
    "data =load_iris()"
   ]
  },
  {
   "cell_type": "code",
   "execution_count": 7,
   "metadata": {},
   "outputs": [
    {
     "data": {
      "text/plain": [
       "{'data': array([[5.1, 3.5, 1.4, 0.2],\n",
       "        [4.9, 3. , 1.4, 0.2],\n",
       "        [4.7, 3.2, 1.3, 0.2],\n",
       "        [4.6, 3.1, 1.5, 0.2],\n",
       "        [5. , 3.6, 1.4, 0.2],\n",
       "        [5.4, 3.9, 1.7, 0.4],\n",
       "        [4.6, 3.4, 1.4, 0.3],\n",
       "        [5. , 3.4, 1.5, 0.2],\n",
       "        [4.4, 2.9, 1.4, 0.2],\n",
       "        [4.9, 3.1, 1.5, 0.1],\n",
       "        [5.4, 3.7, 1.5, 0.2],\n",
       "        [4.8, 3.4, 1.6, 0.2],\n",
       "        [4.8, 3. , 1.4, 0.1],\n",
       "        [4.3, 3. , 1.1, 0.1],\n",
       "        [5.8, 4. , 1.2, 0.2],\n",
       "        [5.7, 4.4, 1.5, 0.4],\n",
       "        [5.4, 3.9, 1.3, 0.4],\n",
       "        [5.1, 3.5, 1.4, 0.3],\n",
       "        [5.7, 3.8, 1.7, 0.3],\n",
       "        [5.1, 3.8, 1.5, 0.3],\n",
       "        [5.4, 3.4, 1.7, 0.2],\n",
       "        [5.1, 3.7, 1.5, 0.4],\n",
       "        [4.6, 3.6, 1. , 0.2],\n",
       "        [5.1, 3.3, 1.7, 0.5],\n",
       "        [4.8, 3.4, 1.9, 0.2],\n",
       "        [5. , 3. , 1.6, 0.2],\n",
       "        [5. , 3.4, 1.6, 0.4],\n",
       "        [5.2, 3.5, 1.5, 0.2],\n",
       "        [5.2, 3.4, 1.4, 0.2],\n",
       "        [4.7, 3.2, 1.6, 0.2],\n",
       "        [4.8, 3.1, 1.6, 0.2],\n",
       "        [5.4, 3.4, 1.5, 0.4],\n",
       "        [5.2, 4.1, 1.5, 0.1],\n",
       "        [5.5, 4.2, 1.4, 0.2],\n",
       "        [4.9, 3.1, 1.5, 0.2],\n",
       "        [5. , 3.2, 1.2, 0.2],\n",
       "        [5.5, 3.5, 1.3, 0.2],\n",
       "        [4.9, 3.6, 1.4, 0.1],\n",
       "        [4.4, 3. , 1.3, 0.2],\n",
       "        [5.1, 3.4, 1.5, 0.2],\n",
       "        [5. , 3.5, 1.3, 0.3],\n",
       "        [4.5, 2.3, 1.3, 0.3],\n",
       "        [4.4, 3.2, 1.3, 0.2],\n",
       "        [5. , 3.5, 1.6, 0.6],\n",
       "        [5.1, 3.8, 1.9, 0.4],\n",
       "        [4.8, 3. , 1.4, 0.3],\n",
       "        [5.1, 3.8, 1.6, 0.2],\n",
       "        [4.6, 3.2, 1.4, 0.2],\n",
       "        [5.3, 3.7, 1.5, 0.2],\n",
       "        [5. , 3.3, 1.4, 0.2],\n",
       "        [7. , 3.2, 4.7, 1.4],\n",
       "        [6.4, 3.2, 4.5, 1.5],\n",
       "        [6.9, 3.1, 4.9, 1.5],\n",
       "        [5.5, 2.3, 4. , 1.3],\n",
       "        [6.5, 2.8, 4.6, 1.5],\n",
       "        [5.7, 2.8, 4.5, 1.3],\n",
       "        [6.3, 3.3, 4.7, 1.6],\n",
       "        [4.9, 2.4, 3.3, 1. ],\n",
       "        [6.6, 2.9, 4.6, 1.3],\n",
       "        [5.2, 2.7, 3.9, 1.4],\n",
       "        [5. , 2. , 3.5, 1. ],\n",
       "        [5.9, 3. , 4.2, 1.5],\n",
       "        [6. , 2.2, 4. , 1. ],\n",
       "        [6.1, 2.9, 4.7, 1.4],\n",
       "        [5.6, 2.9, 3.6, 1.3],\n",
       "        [6.7, 3.1, 4.4, 1.4],\n",
       "        [5.6, 3. , 4.5, 1.5],\n",
       "        [5.8, 2.7, 4.1, 1. ],\n",
       "        [6.2, 2.2, 4.5, 1.5],\n",
       "        [5.6, 2.5, 3.9, 1.1],\n",
       "        [5.9, 3.2, 4.8, 1.8],\n",
       "        [6.1, 2.8, 4. , 1.3],\n",
       "        [6.3, 2.5, 4.9, 1.5],\n",
       "        [6.1, 2.8, 4.7, 1.2],\n",
       "        [6.4, 2.9, 4.3, 1.3],\n",
       "        [6.6, 3. , 4.4, 1.4],\n",
       "        [6.8, 2.8, 4.8, 1.4],\n",
       "        [6.7, 3. , 5. , 1.7],\n",
       "        [6. , 2.9, 4.5, 1.5],\n",
       "        [5.7, 2.6, 3.5, 1. ],\n",
       "        [5.5, 2.4, 3.8, 1.1],\n",
       "        [5.5, 2.4, 3.7, 1. ],\n",
       "        [5.8, 2.7, 3.9, 1.2],\n",
       "        [6. , 2.7, 5.1, 1.6],\n",
       "        [5.4, 3. , 4.5, 1.5],\n",
       "        [6. , 3.4, 4.5, 1.6],\n",
       "        [6.7, 3.1, 4.7, 1.5],\n",
       "        [6.3, 2.3, 4.4, 1.3],\n",
       "        [5.6, 3. , 4.1, 1.3],\n",
       "        [5.5, 2.5, 4. , 1.3],\n",
       "        [5.5, 2.6, 4.4, 1.2],\n",
       "        [6.1, 3. , 4.6, 1.4],\n",
       "        [5.8, 2.6, 4. , 1.2],\n",
       "        [5. , 2.3, 3.3, 1. ],\n",
       "        [5.6, 2.7, 4.2, 1.3],\n",
       "        [5.7, 3. , 4.2, 1.2],\n",
       "        [5.7, 2.9, 4.2, 1.3],\n",
       "        [6.2, 2.9, 4.3, 1.3],\n",
       "        [5.1, 2.5, 3. , 1.1],\n",
       "        [5.7, 2.8, 4.1, 1.3],\n",
       "        [6.3, 3.3, 6. , 2.5],\n",
       "        [5.8, 2.7, 5.1, 1.9],\n",
       "        [7.1, 3. , 5.9, 2.1],\n",
       "        [6.3, 2.9, 5.6, 1.8],\n",
       "        [6.5, 3. , 5.8, 2.2],\n",
       "        [7.6, 3. , 6.6, 2.1],\n",
       "        [4.9, 2.5, 4.5, 1.7],\n",
       "        [7.3, 2.9, 6.3, 1.8],\n",
       "        [6.7, 2.5, 5.8, 1.8],\n",
       "        [7.2, 3.6, 6.1, 2.5],\n",
       "        [6.5, 3.2, 5.1, 2. ],\n",
       "        [6.4, 2.7, 5.3, 1.9],\n",
       "        [6.8, 3. , 5.5, 2.1],\n",
       "        [5.7, 2.5, 5. , 2. ],\n",
       "        [5.8, 2.8, 5.1, 2.4],\n",
       "        [6.4, 3.2, 5.3, 2.3],\n",
       "        [6.5, 3. , 5.5, 1.8],\n",
       "        [7.7, 3.8, 6.7, 2.2],\n",
       "        [7.7, 2.6, 6.9, 2.3],\n",
       "        [6. , 2.2, 5. , 1.5],\n",
       "        [6.9, 3.2, 5.7, 2.3],\n",
       "        [5.6, 2.8, 4.9, 2. ],\n",
       "        [7.7, 2.8, 6.7, 2. ],\n",
       "        [6.3, 2.7, 4.9, 1.8],\n",
       "        [6.7, 3.3, 5.7, 2.1],\n",
       "        [7.2, 3.2, 6. , 1.8],\n",
       "        [6.2, 2.8, 4.8, 1.8],\n",
       "        [6.1, 3. , 4.9, 1.8],\n",
       "        [6.4, 2.8, 5.6, 2.1],\n",
       "        [7.2, 3. , 5.8, 1.6],\n",
       "        [7.4, 2.8, 6.1, 1.9],\n",
       "        [7.9, 3.8, 6.4, 2. ],\n",
       "        [6.4, 2.8, 5.6, 2.2],\n",
       "        [6.3, 2.8, 5.1, 1.5],\n",
       "        [6.1, 2.6, 5.6, 1.4],\n",
       "        [7.7, 3. , 6.1, 2.3],\n",
       "        [6.3, 3.4, 5.6, 2.4],\n",
       "        [6.4, 3.1, 5.5, 1.8],\n",
       "        [6. , 3. , 4.8, 1.8],\n",
       "        [6.9, 3.1, 5.4, 2.1],\n",
       "        [6.7, 3.1, 5.6, 2.4],\n",
       "        [6.9, 3.1, 5.1, 2.3],\n",
       "        [5.8, 2.7, 5.1, 1.9],\n",
       "        [6.8, 3.2, 5.9, 2.3],\n",
       "        [6.7, 3.3, 5.7, 2.5],\n",
       "        [6.7, 3. , 5.2, 2.3],\n",
       "        [6.3, 2.5, 5. , 1.9],\n",
       "        [6.5, 3. , 5.2, 2. ],\n",
       "        [6.2, 3.4, 5.4, 2.3],\n",
       "        [5.9, 3. , 5.1, 1.8]]),\n",
       " 'target': array([0, 0, 0, 0, 0, 0, 0, 0, 0, 0, 0, 0, 0, 0, 0, 0, 0, 0, 0, 0, 0, 0,\n",
       "        0, 0, 0, 0, 0, 0, 0, 0, 0, 0, 0, 0, 0, 0, 0, 0, 0, 0, 0, 0, 0, 0,\n",
       "        0, 0, 0, 0, 0, 0, 1, 1, 1, 1, 1, 1, 1, 1, 1, 1, 1, 1, 1, 1, 1, 1,\n",
       "        1, 1, 1, 1, 1, 1, 1, 1, 1, 1, 1, 1, 1, 1, 1, 1, 1, 1, 1, 1, 1, 1,\n",
       "        1, 1, 1, 1, 1, 1, 1, 1, 1, 1, 1, 1, 2, 2, 2, 2, 2, 2, 2, 2, 2, 2,\n",
       "        2, 2, 2, 2, 2, 2, 2, 2, 2, 2, 2, 2, 2, 2, 2, 2, 2, 2, 2, 2, 2, 2,\n",
       "        2, 2, 2, 2, 2, 2, 2, 2, 2, 2, 2, 2, 2, 2, 2, 2, 2, 2]),\n",
       " 'target_names': array(['setosa', 'versicolor', 'virginica'], dtype='<U10'),\n",
       " 'DESCR': '.. _iris_dataset:\\n\\nIris plants dataset\\n--------------------\\n\\n**Data Set Characteristics:**\\n\\n    :Number of Instances: 150 (50 in each of three classes)\\n    :Number of Attributes: 4 numeric, predictive attributes and the class\\n    :Attribute Information:\\n        - sepal length in cm\\n        - sepal width in cm\\n        - petal length in cm\\n        - petal width in cm\\n        - class:\\n                - Iris-Setosa\\n                - Iris-Versicolour\\n                - Iris-Virginica\\n                \\n    :Summary Statistics:\\n\\n    ============== ==== ==== ======= ===== ====================\\n                    Min  Max   Mean    SD   Class Correlation\\n    ============== ==== ==== ======= ===== ====================\\n    sepal length:   4.3  7.9   5.84   0.83    0.7826\\n    sepal width:    2.0  4.4   3.05   0.43   -0.4194\\n    petal length:   1.0  6.9   3.76   1.76    0.9490  (high!)\\n    petal width:    0.1  2.5   1.20   0.76    0.9565  (high!)\\n    ============== ==== ==== ======= ===== ====================\\n\\n    :Missing Attribute Values: None\\n    :Class Distribution: 33.3% for each of 3 classes.\\n    :Creator: R.A. Fisher\\n    :Donor: Michael Marshall (MARSHALL%PLU@io.arc.nasa.gov)\\n    :Date: July, 1988\\n\\nThe famous Iris database, first used by Sir R.A. Fisher. The dataset is taken\\nfrom Fisher\\'s paper. Note that it\\'s the same as in R, but not as in the UCI\\nMachine Learning Repository, which has two wrong data points.\\n\\nThis is perhaps the best known database to be found in the\\npattern recognition literature.  Fisher\\'s paper is a classic in the field and\\nis referenced frequently to this day.  (See Duda & Hart, for example.)  The\\ndata set contains 3 classes of 50 instances each, where each class refers to a\\ntype of iris plant.  One class is linearly separable from the other 2; the\\nlatter are NOT linearly separable from each other.\\n\\n.. topic:: References\\n\\n   - Fisher, R.A. \"The use of multiple measurements in taxonomic problems\"\\n     Annual Eugenics, 7, Part II, 179-188 (1936); also in \"Contributions to\\n     Mathematical Statistics\" (John Wiley, NY, 1950).\\n   - Duda, R.O., & Hart, P.E. (1973) Pattern Classification and Scene Analysis.\\n     (Q327.D83) John Wiley & Sons.  ISBN 0-471-22361-1.  See page 218.\\n   - Dasarathy, B.V. (1980) \"Nosing Around the Neighborhood: A New System\\n     Structure and Classification Rule for Recognition in Partially Exposed\\n     Environments\".  IEEE Transactions on Pattern Analysis and Machine\\n     Intelligence, Vol. PAMI-2, No. 1, 67-71.\\n   - Gates, G.W. (1972) \"The Reduced Nearest Neighbor Rule\".  IEEE Transactions\\n     on Information Theory, May 1972, 431-433.\\n   - See also: 1988 MLC Proceedings, 54-64.  Cheeseman et al\"s AUTOCLASS II\\n     conceptual clustering system finds 3 classes in the data.\\n   - Many, many more ...',\n",
       " 'feature_names': ['sepal length (cm)',\n",
       "  'sepal width (cm)',\n",
       "  'petal length (cm)',\n",
       "  'petal width (cm)'],\n",
       " 'filename': 'c:\\\\Users\\\\Joejoyal\\\\anaconda3\\\\lib\\\\site-packages\\\\sklearn\\\\datasets\\\\data\\\\iris.csv'}"
      ]
     },
     "execution_count": 7,
     "metadata": {},
     "output_type": "execute_result"
    }
   ],
   "source": [
    "data"
   ]
  },
  {
   "cell_type": "code",
   "execution_count": 12,
   "metadata": {},
   "outputs": [],
   "source": [
    "df = pd.DataFrame(data.data, columns=data.feature_names)"
   ]
  },
  {
   "cell_type": "code",
   "execution_count": 11,
   "metadata": {},
   "outputs": [
    {
     "data": {
      "text/plain": [
       "array([0, 0, 0, 0, 0, 0, 0, 0, 0, 0, 0, 0, 0, 0, 0, 0, 0, 0, 0, 0, 0, 0,\n",
       "       0, 0, 0, 0, 0, 0, 0, 0, 0, 0, 0, 0, 0, 0, 0, 0, 0, 0, 0, 0, 0, 0,\n",
       "       0, 0, 0, 0, 0, 0, 1, 1, 1, 1, 1, 1, 1, 1, 1, 1, 1, 1, 1, 1, 1, 1,\n",
       "       1, 1, 1, 1, 1, 1, 1, 1, 1, 1, 1, 1, 1, 1, 1, 1, 1, 1, 1, 1, 1, 1,\n",
       "       1, 1, 1, 1, 1, 1, 1, 1, 1, 1, 1, 1, 2, 2, 2, 2, 2, 2, 2, 2, 2, 2,\n",
       "       2, 2, 2, 2, 2, 2, 2, 2, 2, 2, 2, 2, 2, 2, 2, 2, 2, 2, 2, 2, 2, 2,\n",
       "       2, 2, 2, 2, 2, 2, 2, 2, 2, 2, 2, 2, 2, 2, 2, 2, 2, 2])"
      ]
     },
     "execution_count": 11,
     "metadata": {},
     "output_type": "execute_result"
    }
   ],
   "source": [
    "data.target"
   ]
  },
  {
   "cell_type": "code",
   "execution_count": 13,
   "metadata": {},
   "outputs": [],
   "source": [
    "df['target'] = data.target"
   ]
  },
  {
   "cell_type": "code",
   "execution_count": 14,
   "metadata": {},
   "outputs": [
    {
     "data": {
      "text/plain": [
       "array(['setosa', 'versicolor', 'virginica'], dtype='<U10')"
      ]
     },
     "execution_count": 14,
     "metadata": {},
     "output_type": "execute_result"
    }
   ],
   "source": [
    "data.target_names"
   ]
  },
  {
   "cell_type": "code",
   "execution_count": 16,
   "metadata": {},
   "outputs": [],
   "source": [
    "df['target_name'] = df['target'].map({i:name for i, name in enumerate(data.target_names)})"
   ]
  },
  {
   "cell_type": "code",
   "execution_count": 19,
   "metadata": {},
   "outputs": [
    {
     "data": {
      "text/html": [
       "<div>\n",
       "<style scoped>\n",
       "    .dataframe tbody tr th:only-of-type {\n",
       "        vertical-align: middle;\n",
       "    }\n",
       "\n",
       "    .dataframe tbody tr th {\n",
       "        vertical-align: top;\n",
       "    }\n",
       "\n",
       "    .dataframe thead th {\n",
       "        text-align: right;\n",
       "    }\n",
       "</style>\n",
       "<table border=\"1\" class=\"dataframe\">\n",
       "  <thead>\n",
       "    <tr style=\"text-align: right;\">\n",
       "      <th></th>\n",
       "      <th>sepal length (cm)</th>\n",
       "      <th>sepal width (cm)</th>\n",
       "      <th>petal length (cm)</th>\n",
       "      <th>petal width (cm)</th>\n",
       "      <th>target</th>\n",
       "      <th>target_name</th>\n",
       "    </tr>\n",
       "  </thead>\n",
       "  <tbody>\n",
       "    <tr>\n",
       "      <th>0</th>\n",
       "      <td>5.1</td>\n",
       "      <td>3.5</td>\n",
       "      <td>1.4</td>\n",
       "      <td>0.2</td>\n",
       "      <td>0</td>\n",
       "      <td>setosa</td>\n",
       "    </tr>\n",
       "    <tr>\n",
       "      <th>1</th>\n",
       "      <td>4.9</td>\n",
       "      <td>3.0</td>\n",
       "      <td>1.4</td>\n",
       "      <td>0.2</td>\n",
       "      <td>0</td>\n",
       "      <td>setosa</td>\n",
       "    </tr>\n",
       "    <tr>\n",
       "      <th>2</th>\n",
       "      <td>4.7</td>\n",
       "      <td>3.2</td>\n",
       "      <td>1.3</td>\n",
       "      <td>0.2</td>\n",
       "      <td>0</td>\n",
       "      <td>setosa</td>\n",
       "    </tr>\n",
       "    <tr>\n",
       "      <th>3</th>\n",
       "      <td>4.6</td>\n",
       "      <td>3.1</td>\n",
       "      <td>1.5</td>\n",
       "      <td>0.2</td>\n",
       "      <td>0</td>\n",
       "      <td>setosa</td>\n",
       "    </tr>\n",
       "    <tr>\n",
       "      <th>4</th>\n",
       "      <td>5.0</td>\n",
       "      <td>3.6</td>\n",
       "      <td>1.4</td>\n",
       "      <td>0.2</td>\n",
       "      <td>0</td>\n",
       "      <td>setosa</td>\n",
       "    </tr>\n",
       "  </tbody>\n",
       "</table>\n",
       "</div>"
      ],
      "text/plain": [
       "   sepal length (cm)  sepal width (cm)  petal length (cm)  petal width (cm)  \\\n",
       "0                5.1               3.5                1.4               0.2   \n",
       "1                4.9               3.0                1.4               0.2   \n",
       "2                4.7               3.2                1.3               0.2   \n",
       "3                4.6               3.1                1.5               0.2   \n",
       "4                5.0               3.6                1.4               0.2   \n",
       "\n",
       "   target target_name  \n",
       "0       0      setosa  \n",
       "1       0      setosa  \n",
       "2       0      setosa  \n",
       "3       0      setosa  \n",
       "4       0      setosa  "
      ]
     },
     "execution_count": 19,
     "metadata": {},
     "output_type": "execute_result"
    }
   ],
   "source": [
    "df.head()"
   ]
  },
  {
   "cell_type": "code",
   "execution_count": 21,
   "metadata": {},
   "outputs": [
    {
     "data": {
      "text/plain": [
       "sepal length (cm)    float64\n",
       "sepal width (cm)     float64\n",
       "petal length (cm)    float64\n",
       "petal width (cm)     float64\n",
       "target                 int32\n",
       "target_name           object\n",
       "dtype: object"
      ]
     },
     "execution_count": 21,
     "metadata": {},
     "output_type": "execute_result"
    }
   ],
   "source": [
    "df.dtypes"
   ]
  },
  {
   "cell_type": "code",
   "execution_count": 24,
   "metadata": {},
   "outputs": [
    {
     "data": {
      "text/plain": [
       "sepal length (cm)    0\n",
       "sepal width (cm)     0\n",
       "petal length (cm)    0\n",
       "petal width (cm)     0\n",
       "target               0\n",
       "target_name          0\n",
       "dtype: int64"
      ]
     },
     "execution_count": 24,
     "metadata": {},
     "output_type": "execute_result"
    }
   ],
   "source": [
    "df.isnull().sum()"
   ]
  },
  {
   "cell_type": "code",
   "execution_count": 25,
   "metadata": {},
   "outputs": [
    {
     "data": {
      "text/plain": [
       "setosa        50\n",
       "versicolor    50\n",
       "virginica     50\n",
       "Name: target_name, dtype: int64"
      ]
     },
     "execution_count": 25,
     "metadata": {},
     "output_type": "execute_result"
    }
   ],
   "source": [
    "df['target_name'].value_counts()"
   ]
  },
  {
   "cell_type": "code",
   "execution_count": 27,
   "metadata": {},
   "outputs": [],
   "source": [
    "binary_df = df[df['target'] !=2]"
   ]
  },
  {
   "cell_type": "code",
   "execution_count": 29,
   "metadata": {},
   "outputs": [
    {
     "data": {
      "text/html": [
       "<div>\n",
       "<style scoped>\n",
       "    .dataframe tbody tr th:only-of-type {\n",
       "        vertical-align: middle;\n",
       "    }\n",
       "\n",
       "    .dataframe tbody tr th {\n",
       "        vertical-align: top;\n",
       "    }\n",
       "\n",
       "    .dataframe thead th {\n",
       "        text-align: right;\n",
       "    }\n",
       "</style>\n",
       "<table border=\"1\" class=\"dataframe\">\n",
       "  <thead>\n",
       "    <tr style=\"text-align: right;\">\n",
       "      <th></th>\n",
       "      <th>sepal length (cm)</th>\n",
       "      <th>sepal width (cm)</th>\n",
       "      <th>petal length (cm)</th>\n",
       "      <th>petal width (cm)</th>\n",
       "      <th>target</th>\n",
       "      <th>target_name</th>\n",
       "    </tr>\n",
       "  </thead>\n",
       "  <tbody>\n",
       "    <tr>\n",
       "      <th>0</th>\n",
       "      <td>5.1</td>\n",
       "      <td>3.5</td>\n",
       "      <td>1.4</td>\n",
       "      <td>0.2</td>\n",
       "      <td>0</td>\n",
       "      <td>setosa</td>\n",
       "    </tr>\n",
       "    <tr>\n",
       "      <th>1</th>\n",
       "      <td>4.9</td>\n",
       "      <td>3.0</td>\n",
       "      <td>1.4</td>\n",
       "      <td>0.2</td>\n",
       "      <td>0</td>\n",
       "      <td>setosa</td>\n",
       "    </tr>\n",
       "    <tr>\n",
       "      <th>2</th>\n",
       "      <td>4.7</td>\n",
       "      <td>3.2</td>\n",
       "      <td>1.3</td>\n",
       "      <td>0.2</td>\n",
       "      <td>0</td>\n",
       "      <td>setosa</td>\n",
       "    </tr>\n",
       "    <tr>\n",
       "      <th>3</th>\n",
       "      <td>4.6</td>\n",
       "      <td>3.1</td>\n",
       "      <td>1.5</td>\n",
       "      <td>0.2</td>\n",
       "      <td>0</td>\n",
       "      <td>setosa</td>\n",
       "    </tr>\n",
       "    <tr>\n",
       "      <th>4</th>\n",
       "      <td>5.0</td>\n",
       "      <td>3.6</td>\n",
       "      <td>1.4</td>\n",
       "      <td>0.2</td>\n",
       "      <td>0</td>\n",
       "      <td>setosa</td>\n",
       "    </tr>\n",
       "  </tbody>\n",
       "</table>\n",
       "</div>"
      ],
      "text/plain": [
       "   sepal length (cm)  sepal width (cm)  petal length (cm)  petal width (cm)  \\\n",
       "0                5.1               3.5                1.4               0.2   \n",
       "1                4.9               3.0                1.4               0.2   \n",
       "2                4.7               3.2                1.3               0.2   \n",
       "3                4.6               3.1                1.5               0.2   \n",
       "4                5.0               3.6                1.4               0.2   \n",
       "\n",
       "   target target_name  \n",
       "0       0      setosa  \n",
       "1       0      setosa  \n",
       "2       0      setosa  \n",
       "3       0      setosa  \n",
       "4       0      setosa  "
      ]
     },
     "execution_count": 29,
     "metadata": {},
     "output_type": "execute_result"
    }
   ],
   "source": [
    "binary_df.head()"
   ]
  },
  {
   "cell_type": "code",
   "execution_count": 42,
   "metadata": {},
   "outputs": [],
   "source": [
    "x_binary = binary_df[['sepal length (cm)','sepal width (cm)','petal length (cm)','petal width (cm)']]"
   ]
  },
  {
   "cell_type": "code",
   "execution_count": 43,
   "metadata": {},
   "outputs": [
    {
     "data": {
      "text/html": [
       "<div>\n",
       "<style scoped>\n",
       "    .dataframe tbody tr th:only-of-type {\n",
       "        vertical-align: middle;\n",
       "    }\n",
       "\n",
       "    .dataframe tbody tr th {\n",
       "        vertical-align: top;\n",
       "    }\n",
       "\n",
       "    .dataframe thead th {\n",
       "        text-align: right;\n",
       "    }\n",
       "</style>\n",
       "<table border=\"1\" class=\"dataframe\">\n",
       "  <thead>\n",
       "    <tr style=\"text-align: right;\">\n",
       "      <th></th>\n",
       "      <th>sepal length (cm)</th>\n",
       "      <th>sepal width (cm)</th>\n",
       "      <th>petal length (cm)</th>\n",
       "      <th>petal width (cm)</th>\n",
       "    </tr>\n",
       "  </thead>\n",
       "  <tbody>\n",
       "    <tr>\n",
       "      <th>0</th>\n",
       "      <td>5.1</td>\n",
       "      <td>3.5</td>\n",
       "      <td>1.4</td>\n",
       "      <td>0.2</td>\n",
       "    </tr>\n",
       "    <tr>\n",
       "      <th>1</th>\n",
       "      <td>4.9</td>\n",
       "      <td>3.0</td>\n",
       "      <td>1.4</td>\n",
       "      <td>0.2</td>\n",
       "    </tr>\n",
       "    <tr>\n",
       "      <th>2</th>\n",
       "      <td>4.7</td>\n",
       "      <td>3.2</td>\n",
       "      <td>1.3</td>\n",
       "      <td>0.2</td>\n",
       "    </tr>\n",
       "    <tr>\n",
       "      <th>3</th>\n",
       "      <td>4.6</td>\n",
       "      <td>3.1</td>\n",
       "      <td>1.5</td>\n",
       "      <td>0.2</td>\n",
       "    </tr>\n",
       "    <tr>\n",
       "      <th>4</th>\n",
       "      <td>5.0</td>\n",
       "      <td>3.6</td>\n",
       "      <td>1.4</td>\n",
       "      <td>0.2</td>\n",
       "    </tr>\n",
       "    <tr>\n",
       "      <th>...</th>\n",
       "      <td>...</td>\n",
       "      <td>...</td>\n",
       "      <td>...</td>\n",
       "      <td>...</td>\n",
       "    </tr>\n",
       "    <tr>\n",
       "      <th>95</th>\n",
       "      <td>5.7</td>\n",
       "      <td>3.0</td>\n",
       "      <td>4.2</td>\n",
       "      <td>1.2</td>\n",
       "    </tr>\n",
       "    <tr>\n",
       "      <th>96</th>\n",
       "      <td>5.7</td>\n",
       "      <td>2.9</td>\n",
       "      <td>4.2</td>\n",
       "      <td>1.3</td>\n",
       "    </tr>\n",
       "    <tr>\n",
       "      <th>97</th>\n",
       "      <td>6.2</td>\n",
       "      <td>2.9</td>\n",
       "      <td>4.3</td>\n",
       "      <td>1.3</td>\n",
       "    </tr>\n",
       "    <tr>\n",
       "      <th>98</th>\n",
       "      <td>5.1</td>\n",
       "      <td>2.5</td>\n",
       "      <td>3.0</td>\n",
       "      <td>1.1</td>\n",
       "    </tr>\n",
       "    <tr>\n",
       "      <th>99</th>\n",
       "      <td>5.7</td>\n",
       "      <td>2.8</td>\n",
       "      <td>4.1</td>\n",
       "      <td>1.3</td>\n",
       "    </tr>\n",
       "  </tbody>\n",
       "</table>\n",
       "<p>100 rows × 4 columns</p>\n",
       "</div>"
      ],
      "text/plain": [
       "    sepal length (cm)  sepal width (cm)  petal length (cm)  petal width (cm)\n",
       "0                 5.1               3.5                1.4               0.2\n",
       "1                 4.9               3.0                1.4               0.2\n",
       "2                 4.7               3.2                1.3               0.2\n",
       "3                 4.6               3.1                1.5               0.2\n",
       "4                 5.0               3.6                1.4               0.2\n",
       "..                ...               ...                ...               ...\n",
       "95                5.7               3.0                4.2               1.2\n",
       "96                5.7               2.9                4.2               1.3\n",
       "97                6.2               2.9                4.3               1.3\n",
       "98                5.1               2.5                3.0               1.1\n",
       "99                5.7               2.8                4.1               1.3\n",
       "\n",
       "[100 rows x 4 columns]"
      ]
     },
     "execution_count": 43,
     "metadata": {},
     "output_type": "execute_result"
    }
   ],
   "source": [
    "x_binary"
   ]
  },
  {
   "cell_type": "code",
   "execution_count": 44,
   "metadata": {},
   "outputs": [],
   "source": [
    "y_binary = binary_df[['target']]"
   ]
  },
  {
   "cell_type": "code",
   "execution_count": 45,
   "metadata": {},
   "outputs": [],
   "source": [
    "x_train, x_test, y_train, y_test = train_test_split(x_binary, y_binary, test_size= .2)"
   ]
  },
  {
   "cell_type": "code",
   "execution_count": 46,
   "metadata": {},
   "outputs": [
    {
     "data": {
      "text/html": [
       "<div>\n",
       "<style scoped>\n",
       "    .dataframe tbody tr th:only-of-type {\n",
       "        vertical-align: middle;\n",
       "    }\n",
       "\n",
       "    .dataframe tbody tr th {\n",
       "        vertical-align: top;\n",
       "    }\n",
       "\n",
       "    .dataframe thead th {\n",
       "        text-align: right;\n",
       "    }\n",
       "</style>\n",
       "<table border=\"1\" class=\"dataframe\">\n",
       "  <thead>\n",
       "    <tr style=\"text-align: right;\">\n",
       "      <th></th>\n",
       "      <th>sepal length (cm)</th>\n",
       "      <th>sepal width (cm)</th>\n",
       "      <th>petal length (cm)</th>\n",
       "      <th>petal width (cm)</th>\n",
       "    </tr>\n",
       "  </thead>\n",
       "  <tbody>\n",
       "    <tr>\n",
       "      <th>count</th>\n",
       "      <td>80.000000</td>\n",
       "      <td>80.000000</td>\n",
       "      <td>80.000000</td>\n",
       "      <td>80.000000</td>\n",
       "    </tr>\n",
       "    <tr>\n",
       "      <th>mean</th>\n",
       "      <td>5.455000</td>\n",
       "      <td>3.086250</td>\n",
       "      <td>2.816250</td>\n",
       "      <td>0.767500</td>\n",
       "    </tr>\n",
       "    <tr>\n",
       "      <th>std</th>\n",
       "      <td>0.653307</td>\n",
       "      <td>0.449118</td>\n",
       "      <td>1.452318</td>\n",
       "      <td>0.560238</td>\n",
       "    </tr>\n",
       "    <tr>\n",
       "      <th>min</th>\n",
       "      <td>4.300000</td>\n",
       "      <td>2.000000</td>\n",
       "      <td>1.000000</td>\n",
       "      <td>0.100000</td>\n",
       "    </tr>\n",
       "    <tr>\n",
       "      <th>25%</th>\n",
       "      <td>5.000000</td>\n",
       "      <td>2.800000</td>\n",
       "      <td>1.400000</td>\n",
       "      <td>0.200000</td>\n",
       "    </tr>\n",
       "    <tr>\n",
       "      <th>50%</th>\n",
       "      <td>5.400000</td>\n",
       "      <td>3.050000</td>\n",
       "      <td>1.900000</td>\n",
       "      <td>0.450000</td>\n",
       "    </tr>\n",
       "    <tr>\n",
       "      <th>75%</th>\n",
       "      <td>5.900000</td>\n",
       "      <td>3.400000</td>\n",
       "      <td>4.300000</td>\n",
       "      <td>1.300000</td>\n",
       "    </tr>\n",
       "    <tr>\n",
       "      <th>max</th>\n",
       "      <td>7.000000</td>\n",
       "      <td>4.000000</td>\n",
       "      <td>4.900000</td>\n",
       "      <td>1.800000</td>\n",
       "    </tr>\n",
       "  </tbody>\n",
       "</table>\n",
       "</div>"
      ],
      "text/plain": [
       "       sepal length (cm)  sepal width (cm)  petal length (cm)  \\\n",
       "count          80.000000         80.000000          80.000000   \n",
       "mean            5.455000          3.086250           2.816250   \n",
       "std             0.653307          0.449118           1.452318   \n",
       "min             4.300000          2.000000           1.000000   \n",
       "25%             5.000000          2.800000           1.400000   \n",
       "50%             5.400000          3.050000           1.900000   \n",
       "75%             5.900000          3.400000           4.300000   \n",
       "max             7.000000          4.000000           4.900000   \n",
       "\n",
       "       petal width (cm)  \n",
       "count         80.000000  \n",
       "mean           0.767500  \n",
       "std            0.560238  \n",
       "min            0.100000  \n",
       "25%            0.200000  \n",
       "50%            0.450000  \n",
       "75%            1.300000  \n",
       "max            1.800000  "
      ]
     },
     "execution_count": 46,
     "metadata": {},
     "output_type": "execute_result"
    }
   ],
   "source": [
    "x_train.describe()"
   ]
  },
  {
   "cell_type": "code",
   "execution_count": 47,
   "metadata": {},
   "outputs": [],
   "source": [
    "scaler = StandardScaler()\n",
    "x_train = scaler.fit_transform(x_train)"
   ]
  },
  {
   "cell_type": "code",
   "execution_count": 48,
   "metadata": {},
   "outputs": [],
   "source": [
    "x_test = scaler.transform(x_test)"
   ]
  },
  {
   "cell_type": "code",
   "execution_count": 49,
   "metadata": {},
   "outputs": [
    {
     "data": {
      "text/plain": [
       "array([[-1.31698311,  0.25487197, -0.98131805, -1.01935257],\n",
       "       [ 2.07174536, -0.6413811 ,  1.37453816,  1.13610661],\n",
       "       [-1.00891688,  0.0308087 , -0.84273827, -1.01935257],\n",
       "       [-1.31698311,  0.0308087 , -0.91202816, -1.01935257],\n",
       "       [-1.00891688, -0.19325457, -0.98131805, -0.83973098],\n",
       "       [ 1.91771225,  0.0308087 ,  1.09737861,  1.13610661],\n",
       "       [-0.70085066,  0.92706177, -1.05060793, -0.83973098],\n",
       "       [-0.39278444,  0.7029985 , -0.98131805, -1.01935257],\n",
       "       [-0.08471821,  0.7029985 , -0.91202816, -0.66010938],\n",
       "       [-0.54681755, -1.3135709 ,  0.12732017,  0.59724182],\n",
       "       [ 0.68544735, -0.19325457,  0.95879883,  1.31572821],\n",
       "       [-0.54681755,  0.47893523, -0.77344838, -0.48048778],\n",
       "       [ 0.99351357, -0.6413811 ,  1.30524827,  0.77686342],\n",
       "       [-0.70085066, -0.19325457, -0.84273827, -1.01935257],\n",
       "       [-0.08471821,  1.82331483, -0.77344838, -0.66010938],\n",
       "       [-1.00891688,  0.7029985 , -0.84273827, -1.01935257],\n",
       "       [ 0.37738112,  1.59925156, -0.77344838, -0.83973098],\n",
       "       [-1.62504933,  0.25487197, -1.05060793, -1.01935257],\n",
       "       [-0.70085066,  1.15112503, -0.98131805, -1.01935257],\n",
       "       [ 1.3015798 , -1.76169743,  1.09737861,  0.95648502],\n",
       "       [ 2.22577847,  0.0308087 ,  1.44382805,  1.31572821],\n",
       "       [ 0.83948046, -0.41731783,  1.1666685 ,  1.31572821],\n",
       "       [-0.70085066,  0.7029985 , -0.91202816, -1.01935257],\n",
       "       [ 0.0693149 ,  0.92706177, -1.05060793, -1.01935257],\n",
       "       [ 0.22334801, -0.86544437,  0.95879883,  0.95648502],\n",
       "       [ 0.22334801, -0.19325457,  1.1666685 ,  1.31572821],\n",
       "       [-1.62504933, -0.19325457, -1.05060793, -1.01935257],\n",
       "       [ 1.3015798 ,  0.47893523,  1.30524827,  1.49534981],\n",
       "       [ 0.0693149 , -1.53763417,  0.61234939,  0.41762022],\n",
       "       [-0.70085066,  0.7029985 , -0.84273827, -0.66010938],\n",
       "       [-1.47101622, -1.76169743, -1.05060793, -0.83973098],\n",
       "       [ 1.45561291, -0.41731783,  1.02808872,  0.95648502],\n",
       "       [-0.70085066, -1.76169743,  0.33518984,  0.41762022],\n",
       "       [-1.00891688,  0.7029985 , -0.6348686 , -1.01935257],\n",
       "       [-0.08471821,  1.82331483, -1.05060793, -0.66010938],\n",
       "       [ 1.45561291,  0.25487197,  1.1666685 ,  1.31572821],\n",
       "       [ 0.53141424, -0.86544437,  0.88950894,  0.41762022],\n",
       "       [-0.39278444, -0.86544437,  0.75092917,  1.13610661],\n",
       "       [-1.16295   ,  0.25487197, -1.05060793, -1.01935257],\n",
       "       [ 1.14754669, -0.41731783,  1.02808872,  0.95648502],\n",
       "       [ 0.68544735,  0.25487197,  1.37453816,  1.85459301],\n",
       "       [-1.77908245, -0.19325457, -1.18918771, -1.19897417],\n",
       "       [-1.31698311,  1.15112503, -1.2584776 , -1.01935257],\n",
       "       [-0.54681755,  1.59925156, -0.91202816, -0.83973098],\n",
       "       [-0.39278444,  0.92706177, -0.91202816, -1.01935257],\n",
       "       [-0.85488377,  1.15112503, -0.98131805, -1.19897417],\n",
       "       [-1.00891688, -0.19325457, -0.98131805, -1.19897417],\n",
       "       [-0.70085066, -2.43388723,  0.47376961,  0.41762022],\n",
       "       [-0.54681755,  1.3751883 , -0.91202816, -0.66010938],\n",
       "       [ 0.53141424,  2.0473781 , -1.11989782, -1.01935257],\n",
       "       [ 0.99351357, -0.41731783,  1.30524827,  1.13610661],\n",
       "       [-0.70085066,  0.47893523, -0.98131805, -1.01935257],\n",
       "       [-0.23875132,  1.3751883 , -0.91202816, -1.01935257],\n",
       "       [ 0.0693149 , -1.3135709 ,  0.82021905,  0.95648502],\n",
       "       [ 0.99351357, -0.19325457,  1.23595839,  1.13610661],\n",
       "       [ 0.99351357, -0.6413811 ,  0.82021905,  0.95648502],\n",
       "       [ 0.22334801, -1.3135709 ,  0.75092917,  0.59724182],\n",
       "       [-1.62504933, -0.41731783, -0.98131805, -1.01935257],\n",
       "       [ 2.37981158,  0.25487197,  1.30524827,  1.13610661],\n",
       "       [-0.85488377,  0.0308087 , -0.91202816, -1.01935257],\n",
       "       [-0.08471821, -0.19325457,  1.1666685 ,  1.31572821],\n",
       "       [ 0.37738112, -1.08950763,  0.47376961,  0.41762022],\n",
       "       [-0.08471821,  1.3751883 , -0.91202816, -1.01935257],\n",
       "       [-0.54681755,  0.92706177, -0.98131805, -0.83973098],\n",
       "       [-0.54681755,  0.92706177, -0.98131805, -1.01935257],\n",
       "       [-0.54681755,  1.59925156, -0.6348686 , -0.66010938],\n",
       "       [-0.54681755,  1.59925156, -0.84273827, -1.01935257],\n",
       "       [ 0.83948046, -1.9857607 ,  0.82021905,  0.41762022],\n",
       "       [ 0.53141424, -1.08950763,  0.82021905,  0.77686342],\n",
       "       [ 1.91771225,  0.0308087 ,  1.30524827,  1.31572821],\n",
       "       [ 0.37738112, -0.19325457,  0.95879883,  0.77686342],\n",
       "       [ 1.3015798 , -1.3135709 ,  1.44382805,  1.31572821],\n",
       "       [-0.85488377, -0.19325457, -0.98131805, -1.01935257],\n",
       "       [-0.70085066,  0.25487197, -1.11989782, -1.01935257],\n",
       "       [ 0.37738112, -0.6413811 ,  1.1666685 ,  0.95648502],\n",
       "       [ 0.37738112, -0.41731783,  0.95879883,  0.95648502],\n",
       "       [ 1.76367913, -0.41731783,  1.23595839,  0.95648502],\n",
       "       [ 0.37738112, -0.6413811 ,  0.88950894,  0.95648502],\n",
       "       [ 1.14754669, -1.9857607 ,  1.1666685 ,  1.31572821],\n",
       "       [ 0.22334801, -0.41731783,  0.5430595 ,  0.95648502]])"
      ]
     },
     "execution_count": 49,
     "metadata": {},
     "output_type": "execute_result"
    }
   ],
   "source": [
    "x_train"
   ]
  },
  {
   "cell_type": "code",
   "execution_count": 50,
   "metadata": {},
   "outputs": [],
   "source": [
    "svm_binary = SVC(kernel='linear', C=1.0, probability=True)"
   ]
  },
  {
   "cell_type": "code",
   "execution_count": 51,
   "metadata": {},
   "outputs": [
    {
     "name": "stderr",
     "output_type": "stream",
     "text": [
      "c:\\Users\\Joejoyal\\anaconda3\\lib\\site-packages\\sklearn\\utils\\validation.py:760: DataConversionWarning: A column-vector y was passed when a 1d array was expected. Please change the shape of y to (n_samples, ), for example using ravel().\n",
      "  y = column_or_1d(y, warn=True)\n"
     ]
    },
    {
     "data": {
      "text/plain": [
       "SVC(C=1.0, break_ties=False, cache_size=200, class_weight=None, coef0=0.0,\n",
       "    decision_function_shape='ovr', degree=3, gamma='scale', kernel='linear',\n",
       "    max_iter=-1, probability=True, random_state=None, shrinking=True, tol=0.001,\n",
       "    verbose=False)"
      ]
     },
     "execution_count": 51,
     "metadata": {},
     "output_type": "execute_result"
    }
   ],
   "source": [
    "svm_binary.fit(x_train, y_train)"
   ]
  },
  {
   "cell_type": "code",
   "execution_count": 52,
   "metadata": {},
   "outputs": [
    {
     "data": {
      "text/plain": [
       "array([1, 1, 1, 0, 0, 0, 1, 0, 1, 1, 0, 0, 1, 1, 1, 1, 0, 0, 0, 1])"
      ]
     },
     "execution_count": 52,
     "metadata": {},
     "output_type": "execute_result"
    }
   ],
   "source": [
    "svm_binary.predict(x_test)"
   ]
  },
  {
   "cell_type": "code",
   "execution_count": 54,
   "metadata": {},
   "outputs": [
    {
     "name": "stdout",
     "output_type": "stream",
     "text": [
      "Binary class classification report:\n",
      "               precision    recall  f1-score   support\n",
      "\n",
      "           0       1.00      1.00      1.00         9\n",
      "           1       1.00      1.00      1.00        11\n",
      "\n",
      "    accuracy                           1.00        20\n",
      "   macro avg       1.00      1.00      1.00        20\n",
      "weighted avg       1.00      1.00      1.00        20\n",
      "\n"
     ]
    }
   ],
   "source": [
    "print(\"Binary class classification report:\\n\", classification_report(y_test, svm_binary.predict(x_test)))"
   ]
  },
  {
   "cell_type": "code",
   "execution_count": 55,
   "metadata": {},
   "outputs": [
    {
     "data": {
      "text/plain": [
       "array([[ 9,  0],\n",
       "       [ 0, 11]], dtype=int64)"
      ]
     },
     "execution_count": 55,
     "metadata": {},
     "output_type": "execute_result"
    }
   ],
   "source": [
    "confusion_matrix(y_test, svm_binary.predict(x_test))"
   ]
  },
  {
   "cell_type": "code",
   "execution_count": 56,
   "metadata": {},
   "outputs": [
    {
     "data": {
      "text/plain": [
       "['svm_binary.pkl']"
      ]
     },
     "execution_count": 56,
     "metadata": {},
     "output_type": "execute_result"
    }
   ],
   "source": [
    "joblib.dump(svm_binary, 'svm_binary.pkl')"
   ]
  },
  {
   "cell_type": "code",
   "execution_count": 57,
   "metadata": {},
   "outputs": [],
   "source": [
    "x_multi = df[['sepal length (cm)','sepal width (cm)','petal length (cm)','petal width (cm)']]"
   ]
  },
  {
   "cell_type": "code",
   "execution_count": 58,
   "metadata": {},
   "outputs": [
    {
     "data": {
      "text/html": [
       "<div>\n",
       "<style scoped>\n",
       "    .dataframe tbody tr th:only-of-type {\n",
       "        vertical-align: middle;\n",
       "    }\n",
       "\n",
       "    .dataframe tbody tr th {\n",
       "        vertical-align: top;\n",
       "    }\n",
       "\n",
       "    .dataframe thead th {\n",
       "        text-align: right;\n",
       "    }\n",
       "</style>\n",
       "<table border=\"1\" class=\"dataframe\">\n",
       "  <thead>\n",
       "    <tr style=\"text-align: right;\">\n",
       "      <th></th>\n",
       "      <th>sepal length (cm)</th>\n",
       "      <th>sepal width (cm)</th>\n",
       "      <th>petal length (cm)</th>\n",
       "      <th>petal width (cm)</th>\n",
       "    </tr>\n",
       "  </thead>\n",
       "  <tbody>\n",
       "    <tr>\n",
       "      <th>0</th>\n",
       "      <td>5.1</td>\n",
       "      <td>3.5</td>\n",
       "      <td>1.4</td>\n",
       "      <td>0.2</td>\n",
       "    </tr>\n",
       "    <tr>\n",
       "      <th>1</th>\n",
       "      <td>4.9</td>\n",
       "      <td>3.0</td>\n",
       "      <td>1.4</td>\n",
       "      <td>0.2</td>\n",
       "    </tr>\n",
       "    <tr>\n",
       "      <th>2</th>\n",
       "      <td>4.7</td>\n",
       "      <td>3.2</td>\n",
       "      <td>1.3</td>\n",
       "      <td>0.2</td>\n",
       "    </tr>\n",
       "    <tr>\n",
       "      <th>3</th>\n",
       "      <td>4.6</td>\n",
       "      <td>3.1</td>\n",
       "      <td>1.5</td>\n",
       "      <td>0.2</td>\n",
       "    </tr>\n",
       "    <tr>\n",
       "      <th>4</th>\n",
       "      <td>5.0</td>\n",
       "      <td>3.6</td>\n",
       "      <td>1.4</td>\n",
       "      <td>0.2</td>\n",
       "    </tr>\n",
       "    <tr>\n",
       "      <th>...</th>\n",
       "      <td>...</td>\n",
       "      <td>...</td>\n",
       "      <td>...</td>\n",
       "      <td>...</td>\n",
       "    </tr>\n",
       "    <tr>\n",
       "      <th>145</th>\n",
       "      <td>6.7</td>\n",
       "      <td>3.0</td>\n",
       "      <td>5.2</td>\n",
       "      <td>2.3</td>\n",
       "    </tr>\n",
       "    <tr>\n",
       "      <th>146</th>\n",
       "      <td>6.3</td>\n",
       "      <td>2.5</td>\n",
       "      <td>5.0</td>\n",
       "      <td>1.9</td>\n",
       "    </tr>\n",
       "    <tr>\n",
       "      <th>147</th>\n",
       "      <td>6.5</td>\n",
       "      <td>3.0</td>\n",
       "      <td>5.2</td>\n",
       "      <td>2.0</td>\n",
       "    </tr>\n",
       "    <tr>\n",
       "      <th>148</th>\n",
       "      <td>6.2</td>\n",
       "      <td>3.4</td>\n",
       "      <td>5.4</td>\n",
       "      <td>2.3</td>\n",
       "    </tr>\n",
       "    <tr>\n",
       "      <th>149</th>\n",
       "      <td>5.9</td>\n",
       "      <td>3.0</td>\n",
       "      <td>5.1</td>\n",
       "      <td>1.8</td>\n",
       "    </tr>\n",
       "  </tbody>\n",
       "</table>\n",
       "<p>150 rows × 4 columns</p>\n",
       "</div>"
      ],
      "text/plain": [
       "     sepal length (cm)  sepal width (cm)  petal length (cm)  petal width (cm)\n",
       "0                  5.1               3.5                1.4               0.2\n",
       "1                  4.9               3.0                1.4               0.2\n",
       "2                  4.7               3.2                1.3               0.2\n",
       "3                  4.6               3.1                1.5               0.2\n",
       "4                  5.0               3.6                1.4               0.2\n",
       "..                 ...               ...                ...               ...\n",
       "145                6.7               3.0                5.2               2.3\n",
       "146                6.3               2.5                5.0               1.9\n",
       "147                6.5               3.0                5.2               2.0\n",
       "148                6.2               3.4                5.4               2.3\n",
       "149                5.9               3.0                5.1               1.8\n",
       "\n",
       "[150 rows x 4 columns]"
      ]
     },
     "execution_count": 58,
     "metadata": {},
     "output_type": "execute_result"
    }
   ],
   "source": [
    "x_multi"
   ]
  },
  {
   "cell_type": "code",
   "execution_count": 59,
   "metadata": {},
   "outputs": [],
   "source": [
    "y_multi = df['target']"
   ]
  },
  {
   "cell_type": "code",
   "execution_count": 60,
   "metadata": {},
   "outputs": [
    {
     "data": {
      "text/plain": [
       "0      0\n",
       "1      0\n",
       "2      0\n",
       "3      0\n",
       "4      0\n",
       "      ..\n",
       "145    2\n",
       "146    2\n",
       "147    2\n",
       "148    2\n",
       "149    2\n",
       "Name: target, Length: 150, dtype: int32"
      ]
     },
     "execution_count": 60,
     "metadata": {},
     "output_type": "execute_result"
    }
   ],
   "source": [
    "y_multi"
   ]
  },
  {
   "cell_type": "code",
   "execution_count": 62,
   "metadata": {},
   "outputs": [],
   "source": [
    "x_train_multi, x_test_multi, y_trian_multi, y_test_multi = train_test_split(x_multi, y_multi, test_size= .2)"
   ]
  },
  {
   "cell_type": "code",
   "execution_count": 63,
   "metadata": {},
   "outputs": [],
   "source": [
    "svm_multi = SVC(kernel='linear')"
   ]
  },
  {
   "cell_type": "code",
   "execution_count": 64,
   "metadata": {},
   "outputs": [
    {
     "data": {
      "text/plain": [
       "SVC(C=1.0, break_ties=False, cache_size=200, class_weight=None, coef0=0.0,\n",
       "    decision_function_shape='ovr', degree=3, gamma='scale', kernel='linear',\n",
       "    max_iter=-1, probability=False, random_state=None, shrinking=True,\n",
       "    tol=0.001, verbose=False)"
      ]
     },
     "execution_count": 64,
     "metadata": {},
     "output_type": "execute_result"
    }
   ],
   "source": [
    "svm_multi.fit(x_train_multi, y_trian_multi)"
   ]
  },
  {
   "cell_type": "code",
   "execution_count": 65,
   "metadata": {},
   "outputs": [
    {
     "data": {
      "text/plain": [
       "array([2, 1, 2, 1, 2, 0, 1, 1, 1, 2, 1, 0, 2, 1, 2, 0, 0, 1, 0, 1, 2, 1,\n",
       "       0, 1, 2, 1, 1, 1, 2, 1])"
      ]
     },
     "execution_count": 65,
     "metadata": {},
     "output_type": "execute_result"
    }
   ],
   "source": [
    "svm_multi.predict(x_test_multi)"
   ]
  },
  {
   "cell_type": "code",
   "execution_count": 67,
   "metadata": {},
   "outputs": [
    {
     "name": "stdout",
     "output_type": "stream",
     "text": [
      " report for multi class svc :\n",
      "               precision    recall  f1-score   support\n",
      "\n",
      "           0       1.00      1.00      1.00         6\n",
      "           1       0.93      0.88      0.90        16\n",
      "           2       0.78      0.88      0.82         8\n",
      "\n",
      "    accuracy                           0.90        30\n",
      "   macro avg       0.90      0.92      0.91        30\n",
      "weighted avg       0.91      0.90      0.90        30\n",
      "\n"
     ]
    }
   ],
   "source": [
    "print(\" report for multi class svc :\\n\", classification_report(y_test_multi, svm_multi.predict(x_test_multi)))"
   ]
  },
  {
   "cell_type": "code",
   "execution_count": 68,
   "metadata": {},
   "outputs": [
    {
     "data": {
      "text/plain": [
       "array([[ 6,  0,  0],\n",
       "       [ 0, 14,  2],\n",
       "       [ 0,  1,  7]], dtype=int64)"
      ]
     },
     "execution_count": 68,
     "metadata": {},
     "output_type": "execute_result"
    }
   ],
   "source": [
    "confusion_matrix(y_test_multi, svm_multi.predict(x_test_multi))"
   ]
  },
  {
   "cell_type": "code",
   "execution_count": 69,
   "metadata": {},
   "outputs": [
    {
     "data": {
      "text/plain": [
       "['svm_multi.pkl']"
      ]
     },
     "execution_count": 69,
     "metadata": {},
     "output_type": "execute_result"
    }
   ],
   "source": [
    "joblib.dump(svm_multi, 'svm_multi.pkl')"
   ]
  },
  {
   "cell_type": "code",
   "execution_count": null,
   "metadata": {},
   "outputs": [],
   "source": [
    "### Logistics pratical"
   ]
  },
  {
   "cell_type": "code",
   "execution_count": 70,
   "metadata": {},
   "outputs": [
    {
     "data": {
      "text/plain": [
       "(array([[-1.31698311,  0.25487197, -0.98131805, -1.01935257],\n",
       "        [ 2.07174536, -0.6413811 ,  1.37453816,  1.13610661],\n",
       "        [-1.00891688,  0.0308087 , -0.84273827, -1.01935257],\n",
       "        [-1.31698311,  0.0308087 , -0.91202816, -1.01935257],\n",
       "        [-1.00891688, -0.19325457, -0.98131805, -0.83973098],\n",
       "        [ 1.91771225,  0.0308087 ,  1.09737861,  1.13610661],\n",
       "        [-0.70085066,  0.92706177, -1.05060793, -0.83973098],\n",
       "        [-0.39278444,  0.7029985 , -0.98131805, -1.01935257],\n",
       "        [-0.08471821,  0.7029985 , -0.91202816, -0.66010938],\n",
       "        [-0.54681755, -1.3135709 ,  0.12732017,  0.59724182],\n",
       "        [ 0.68544735, -0.19325457,  0.95879883,  1.31572821],\n",
       "        [-0.54681755,  0.47893523, -0.77344838, -0.48048778],\n",
       "        [ 0.99351357, -0.6413811 ,  1.30524827,  0.77686342],\n",
       "        [-0.70085066, -0.19325457, -0.84273827, -1.01935257],\n",
       "        [-0.08471821,  1.82331483, -0.77344838, -0.66010938],\n",
       "        [-1.00891688,  0.7029985 , -0.84273827, -1.01935257],\n",
       "        [ 0.37738112,  1.59925156, -0.77344838, -0.83973098],\n",
       "        [-1.62504933,  0.25487197, -1.05060793, -1.01935257],\n",
       "        [-0.70085066,  1.15112503, -0.98131805, -1.01935257],\n",
       "        [ 1.3015798 , -1.76169743,  1.09737861,  0.95648502],\n",
       "        [ 2.22577847,  0.0308087 ,  1.44382805,  1.31572821],\n",
       "        [ 0.83948046, -0.41731783,  1.1666685 ,  1.31572821],\n",
       "        [-0.70085066,  0.7029985 , -0.91202816, -1.01935257],\n",
       "        [ 0.0693149 ,  0.92706177, -1.05060793, -1.01935257],\n",
       "        [ 0.22334801, -0.86544437,  0.95879883,  0.95648502],\n",
       "        [ 0.22334801, -0.19325457,  1.1666685 ,  1.31572821],\n",
       "        [-1.62504933, -0.19325457, -1.05060793, -1.01935257],\n",
       "        [ 1.3015798 ,  0.47893523,  1.30524827,  1.49534981],\n",
       "        [ 0.0693149 , -1.53763417,  0.61234939,  0.41762022],\n",
       "        [-0.70085066,  0.7029985 , -0.84273827, -0.66010938],\n",
       "        [-1.47101622, -1.76169743, -1.05060793, -0.83973098],\n",
       "        [ 1.45561291, -0.41731783,  1.02808872,  0.95648502],\n",
       "        [-0.70085066, -1.76169743,  0.33518984,  0.41762022],\n",
       "        [-1.00891688,  0.7029985 , -0.6348686 , -1.01935257],\n",
       "        [-0.08471821,  1.82331483, -1.05060793, -0.66010938],\n",
       "        [ 1.45561291,  0.25487197,  1.1666685 ,  1.31572821],\n",
       "        [ 0.53141424, -0.86544437,  0.88950894,  0.41762022],\n",
       "        [-0.39278444, -0.86544437,  0.75092917,  1.13610661],\n",
       "        [-1.16295   ,  0.25487197, -1.05060793, -1.01935257],\n",
       "        [ 1.14754669, -0.41731783,  1.02808872,  0.95648502],\n",
       "        [ 0.68544735,  0.25487197,  1.37453816,  1.85459301],\n",
       "        [-1.77908245, -0.19325457, -1.18918771, -1.19897417],\n",
       "        [-1.31698311,  1.15112503, -1.2584776 , -1.01935257],\n",
       "        [-0.54681755,  1.59925156, -0.91202816, -0.83973098],\n",
       "        [-0.39278444,  0.92706177, -0.91202816, -1.01935257],\n",
       "        [-0.85488377,  1.15112503, -0.98131805, -1.19897417],\n",
       "        [-1.00891688, -0.19325457, -0.98131805, -1.19897417],\n",
       "        [-0.70085066, -2.43388723,  0.47376961,  0.41762022],\n",
       "        [-0.54681755,  1.3751883 , -0.91202816, -0.66010938],\n",
       "        [ 0.53141424,  2.0473781 , -1.11989782, -1.01935257],\n",
       "        [ 0.99351357, -0.41731783,  1.30524827,  1.13610661],\n",
       "        [-0.70085066,  0.47893523, -0.98131805, -1.01935257],\n",
       "        [-0.23875132,  1.3751883 , -0.91202816, -1.01935257],\n",
       "        [ 0.0693149 , -1.3135709 ,  0.82021905,  0.95648502],\n",
       "        [ 0.99351357, -0.19325457,  1.23595839,  1.13610661],\n",
       "        [ 0.99351357, -0.6413811 ,  0.82021905,  0.95648502],\n",
       "        [ 0.22334801, -1.3135709 ,  0.75092917,  0.59724182],\n",
       "        [-1.62504933, -0.41731783, -0.98131805, -1.01935257],\n",
       "        [ 2.37981158,  0.25487197,  1.30524827,  1.13610661],\n",
       "        [-0.85488377,  0.0308087 , -0.91202816, -1.01935257],\n",
       "        [-0.08471821, -0.19325457,  1.1666685 ,  1.31572821],\n",
       "        [ 0.37738112, -1.08950763,  0.47376961,  0.41762022],\n",
       "        [-0.08471821,  1.3751883 , -0.91202816, -1.01935257],\n",
       "        [-0.54681755,  0.92706177, -0.98131805, -0.83973098],\n",
       "        [-0.54681755,  0.92706177, -0.98131805, -1.01935257],\n",
       "        [-0.54681755,  1.59925156, -0.6348686 , -0.66010938],\n",
       "        [-0.54681755,  1.59925156, -0.84273827, -1.01935257],\n",
       "        [ 0.83948046, -1.9857607 ,  0.82021905,  0.41762022],\n",
       "        [ 0.53141424, -1.08950763,  0.82021905,  0.77686342],\n",
       "        [ 1.91771225,  0.0308087 ,  1.30524827,  1.31572821],\n",
       "        [ 0.37738112, -0.19325457,  0.95879883,  0.77686342],\n",
       "        [ 1.3015798 , -1.3135709 ,  1.44382805,  1.31572821],\n",
       "        [-0.85488377, -0.19325457, -0.98131805, -1.01935257],\n",
       "        [-0.70085066,  0.25487197, -1.11989782, -1.01935257],\n",
       "        [ 0.37738112, -0.6413811 ,  1.1666685 ,  0.95648502],\n",
       "        [ 0.37738112, -0.41731783,  0.95879883,  0.95648502],\n",
       "        [ 1.76367913, -0.41731783,  1.23595839,  0.95648502],\n",
       "        [ 0.37738112, -0.6413811 ,  0.88950894,  0.95648502],\n",
       "        [ 1.14754669, -1.9857607 ,  1.1666685 ,  1.31572821],\n",
       "        [ 0.22334801, -0.41731783,  0.5430595 ,  0.95648502]]),\n",
       " array([[ 0.83948046,  0.7029985 ,  1.1666685 ,  1.49534981],\n",
       "        [ 0.0693149 , -1.53763417,  0.68163928,  0.59724182],\n",
       "        [ 0.0693149 , -1.76169743,  0.82021905,  0.95648502],\n",
       "        [-1.16295   ,  0.25487197, -0.84273827, -1.01935257],\n",
       "        [-0.08471821,  0.7029985 , -0.77344838, -1.01935257],\n",
       "        [ 0.37738112,  2.94363116, -0.91202816, -0.66010938],\n",
       "        [ 0.0693149 , -1.08950763,  1.09737861,  0.77686342],\n",
       "        [-0.39278444,  2.27144136, -0.91202816, -1.19897417],\n",
       "        [ 1.76367913, -0.19325457,  1.09737861,  1.13610661],\n",
       "        [ 0.53141424, -0.86544437,  0.75092917,  0.77686342],\n",
       "        [-0.54681755,  0.7029985 , -0.91202816, -1.01935257],\n",
       "        [-1.31698311,  0.7029985 , -0.98131805, -0.83973098],\n",
       "        [-0.85488377, -1.53763417,  0.33518984,  0.41762022],\n",
       "        [ 1.60964602, -0.6413811 ,  1.23595839,  1.31572821],\n",
       "        [ 1.91771225, -0.19325457,  1.51311794,  1.67497141],\n",
       "        [ 0.22334801, -0.19325457,  0.88950894,  0.95648502],\n",
       "        [ 0.0693149 ,  2.49550463, -0.98131805, -1.01935257],\n",
       "        [-0.70085066,  0.92706177, -0.84273827, -0.30086618],\n",
       "        [-0.85488377,  0.0308087 , -0.91202816, -1.19897417],\n",
       "        [ 0.83948046, -0.86544437,  1.58240783,  1.49534981]]),\n",
       "     target\n",
       " 47       0\n",
       " 76       1\n",
       " 30       0\n",
       " 3        0\n",
       " 45       0\n",
       " ..     ...\n",
       " 96       1\n",
       " 58       1\n",
       " 99       1\n",
       " 68       1\n",
       " 64       1\n",
       " \n",
       " [80 rows x 1 columns],\n",
       "     target\n",
       " 85       1\n",
       " 80       1\n",
       " 53       1\n",
       " 29       0\n",
       " 20       0\n",
       " 15       0\n",
       " 90       1\n",
       " 32       0\n",
       " 75       1\n",
       " 82       1\n",
       " 39       0\n",
       " 6        0\n",
       " 57       1\n",
       " 54       1\n",
       " 77       1\n",
       " 88       1\n",
       " 33       0\n",
       " 43       0\n",
       " 9        0\n",
       " 83       1)"
      ]
     },
     "execution_count": 70,
     "metadata": {},
     "output_type": "execute_result"
    }
   ],
   "source": [
    "x_train, x_test, y_train, y_test"
   ]
  },
  {
   "cell_type": "code",
   "execution_count": 71,
   "metadata": {},
   "outputs": [
    {
     "data": {
      "text/plain": [
       "(     sepal length (cm)  sepal width (cm)  petal length (cm)  petal width (cm)\n",
       " 8                  4.4               2.9                1.4               0.2\n",
       " 9                  4.9               3.1                1.5               0.1\n",
       " 54                 6.5               2.8                4.6               1.5\n",
       " 17                 5.1               3.5                1.4               0.3\n",
       " 72                 6.3               2.5                4.9               1.5\n",
       " ..                 ...               ...                ...               ...\n",
       " 105                7.6               3.0                6.6               2.1\n",
       " 128                6.4               2.8                5.6               2.1\n",
       " 21                 5.1               3.7                1.5               0.4\n",
       " 2                  4.7               3.2                1.3               0.2\n",
       " 102                7.1               3.0                5.9               2.1\n",
       " \n",
       " [120 rows x 4 columns],\n",
       "      sepal length (cm)  sepal width (cm)  petal length (cm)  petal width (cm)\n",
       " 113                5.7               2.5                5.0               2.0\n",
       " 106                4.9               2.5                4.5               1.7\n",
       " 139                6.9               3.1                5.4               2.1\n",
       " 51                 6.4               3.2                4.5               1.5\n",
       " 141                6.9               3.1                5.1               2.3\n",
       " 33                 5.5               4.2                1.4               0.2\n",
       " 71                 6.1               2.8                4.0               1.3\n",
       " 57                 4.9               2.4                3.3               1.0\n",
       " 58                 6.6               2.9                4.6               1.3\n",
       " 140                6.7               3.1                5.6               2.4\n",
       " 97                 6.2               2.9                4.3               1.3\n",
       " 0                  5.1               3.5                1.4               0.2\n",
       " 121                5.6               2.8                4.9               2.0\n",
       " 90                 5.5               2.6                4.4               1.2\n",
       " 83                 6.0               2.7                5.1               1.6\n",
       " 27                 5.2               3.5                1.5               0.2\n",
       " 39                 5.1               3.4                1.5               0.2\n",
       " 50                 7.0               3.2                4.7               1.4\n",
       " 11                 4.8               3.4                1.6               0.2\n",
       " 63                 6.1               2.9                4.7               1.4\n",
       " 77                 6.7               3.0                5.0               1.7\n",
       " 61                 5.9               3.0                4.2               1.5\n",
       " 5                  5.4               3.9                1.7               0.4\n",
       " 92                 5.8               2.6                4.0               1.2\n",
       " 149                5.9               3.0                5.1               1.8\n",
       " 56                 6.3               3.3                4.7               1.6\n",
       " 69                 5.6               2.5                3.9               1.1\n",
       " 82                 5.8               2.7                3.9               1.2\n",
       " 115                6.4               3.2                5.3               2.3\n",
       " 80                 5.5               2.4                3.8               1.1,\n",
       " 8      0\n",
       " 9      0\n",
       " 54     1\n",
       " 17     0\n",
       " 72     1\n",
       "       ..\n",
       " 105    2\n",
       " 128    2\n",
       " 21     0\n",
       " 2      0\n",
       " 102    2\n",
       " Name: target, Length: 120, dtype: int32,\n",
       " 113    2\n",
       " 106    2\n",
       " 139    2\n",
       " 51     1\n",
       " 141    2\n",
       " 33     0\n",
       " 71     1\n",
       " 57     1\n",
       " 58     1\n",
       " 140    2\n",
       " 97     1\n",
       " 0      0\n",
       " 121    2\n",
       " 90     1\n",
       " 83     1\n",
       " 27     0\n",
       " 39     0\n",
       " 50     1\n",
       " 11     0\n",
       " 63     1\n",
       " 77     1\n",
       " 61     1\n",
       " 5      0\n",
       " 92     1\n",
       " 149    2\n",
       " 56     1\n",
       " 69     1\n",
       " 82     1\n",
       " 115    2\n",
       " 80     1\n",
       " Name: target, dtype: int32)"
      ]
     },
     "execution_count": 71,
     "metadata": {},
     "output_type": "execute_result"
    }
   ],
   "source": [
    "x_train_multi, x_test_multi, y_trian_multi, y_test_multi"
   ]
  },
  {
   "cell_type": "code",
   "execution_count": 72,
   "metadata": {},
   "outputs": [],
   "source": [
    "from sklearn.linear_model import LogisticRegression"
   ]
  },
  {
   "cell_type": "code",
   "execution_count": 74,
   "metadata": {},
   "outputs": [
    {
     "data": {
      "text/plain": [
       "array([[-1.31698311,  0.25487197, -0.98131805, -1.01935257],\n",
       "       [ 2.07174536, -0.6413811 ,  1.37453816,  1.13610661],\n",
       "       [-1.00891688,  0.0308087 , -0.84273827, -1.01935257],\n",
       "       [-1.31698311,  0.0308087 , -0.91202816, -1.01935257],\n",
       "       [-1.00891688, -0.19325457, -0.98131805, -0.83973098],\n",
       "       [ 1.91771225,  0.0308087 ,  1.09737861,  1.13610661],\n",
       "       [-0.70085066,  0.92706177, -1.05060793, -0.83973098],\n",
       "       [-0.39278444,  0.7029985 , -0.98131805, -1.01935257],\n",
       "       [-0.08471821,  0.7029985 , -0.91202816, -0.66010938],\n",
       "       [-0.54681755, -1.3135709 ,  0.12732017,  0.59724182],\n",
       "       [ 0.68544735, -0.19325457,  0.95879883,  1.31572821],\n",
       "       [-0.54681755,  0.47893523, -0.77344838, -0.48048778],\n",
       "       [ 0.99351357, -0.6413811 ,  1.30524827,  0.77686342],\n",
       "       [-0.70085066, -0.19325457, -0.84273827, -1.01935257],\n",
       "       [-0.08471821,  1.82331483, -0.77344838, -0.66010938],\n",
       "       [-1.00891688,  0.7029985 , -0.84273827, -1.01935257],\n",
       "       [ 0.37738112,  1.59925156, -0.77344838, -0.83973098],\n",
       "       [-1.62504933,  0.25487197, -1.05060793, -1.01935257],\n",
       "       [-0.70085066,  1.15112503, -0.98131805, -1.01935257],\n",
       "       [ 1.3015798 , -1.76169743,  1.09737861,  0.95648502],\n",
       "       [ 2.22577847,  0.0308087 ,  1.44382805,  1.31572821],\n",
       "       [ 0.83948046, -0.41731783,  1.1666685 ,  1.31572821],\n",
       "       [-0.70085066,  0.7029985 , -0.91202816, -1.01935257],\n",
       "       [ 0.0693149 ,  0.92706177, -1.05060793, -1.01935257],\n",
       "       [ 0.22334801, -0.86544437,  0.95879883,  0.95648502],\n",
       "       [ 0.22334801, -0.19325457,  1.1666685 ,  1.31572821],\n",
       "       [-1.62504933, -0.19325457, -1.05060793, -1.01935257],\n",
       "       [ 1.3015798 ,  0.47893523,  1.30524827,  1.49534981],\n",
       "       [ 0.0693149 , -1.53763417,  0.61234939,  0.41762022],\n",
       "       [-0.70085066,  0.7029985 , -0.84273827, -0.66010938],\n",
       "       [-1.47101622, -1.76169743, -1.05060793, -0.83973098],\n",
       "       [ 1.45561291, -0.41731783,  1.02808872,  0.95648502],\n",
       "       [-0.70085066, -1.76169743,  0.33518984,  0.41762022],\n",
       "       [-1.00891688,  0.7029985 , -0.6348686 , -1.01935257],\n",
       "       [-0.08471821,  1.82331483, -1.05060793, -0.66010938],\n",
       "       [ 1.45561291,  0.25487197,  1.1666685 ,  1.31572821],\n",
       "       [ 0.53141424, -0.86544437,  0.88950894,  0.41762022],\n",
       "       [-0.39278444, -0.86544437,  0.75092917,  1.13610661],\n",
       "       [-1.16295   ,  0.25487197, -1.05060793, -1.01935257],\n",
       "       [ 1.14754669, -0.41731783,  1.02808872,  0.95648502],\n",
       "       [ 0.68544735,  0.25487197,  1.37453816,  1.85459301],\n",
       "       [-1.77908245, -0.19325457, -1.18918771, -1.19897417],\n",
       "       [-1.31698311,  1.15112503, -1.2584776 , -1.01935257],\n",
       "       [-0.54681755,  1.59925156, -0.91202816, -0.83973098],\n",
       "       [-0.39278444,  0.92706177, -0.91202816, -1.01935257],\n",
       "       [-0.85488377,  1.15112503, -0.98131805, -1.19897417],\n",
       "       [-1.00891688, -0.19325457, -0.98131805, -1.19897417],\n",
       "       [-0.70085066, -2.43388723,  0.47376961,  0.41762022],\n",
       "       [-0.54681755,  1.3751883 , -0.91202816, -0.66010938],\n",
       "       [ 0.53141424,  2.0473781 , -1.11989782, -1.01935257],\n",
       "       [ 0.99351357, -0.41731783,  1.30524827,  1.13610661],\n",
       "       [-0.70085066,  0.47893523, -0.98131805, -1.01935257],\n",
       "       [-0.23875132,  1.3751883 , -0.91202816, -1.01935257],\n",
       "       [ 0.0693149 , -1.3135709 ,  0.82021905,  0.95648502],\n",
       "       [ 0.99351357, -0.19325457,  1.23595839,  1.13610661],\n",
       "       [ 0.99351357, -0.6413811 ,  0.82021905,  0.95648502],\n",
       "       [ 0.22334801, -1.3135709 ,  0.75092917,  0.59724182],\n",
       "       [-1.62504933, -0.41731783, -0.98131805, -1.01935257],\n",
       "       [ 2.37981158,  0.25487197,  1.30524827,  1.13610661],\n",
       "       [-0.85488377,  0.0308087 , -0.91202816, -1.01935257],\n",
       "       [-0.08471821, -0.19325457,  1.1666685 ,  1.31572821],\n",
       "       [ 0.37738112, -1.08950763,  0.47376961,  0.41762022],\n",
       "       [-0.08471821,  1.3751883 , -0.91202816, -1.01935257],\n",
       "       [-0.54681755,  0.92706177, -0.98131805, -0.83973098],\n",
       "       [-0.54681755,  0.92706177, -0.98131805, -1.01935257],\n",
       "       [-0.54681755,  1.59925156, -0.6348686 , -0.66010938],\n",
       "       [-0.54681755,  1.59925156, -0.84273827, -1.01935257],\n",
       "       [ 0.83948046, -1.9857607 ,  0.82021905,  0.41762022],\n",
       "       [ 0.53141424, -1.08950763,  0.82021905,  0.77686342],\n",
       "       [ 1.91771225,  0.0308087 ,  1.30524827,  1.31572821],\n",
       "       [ 0.37738112, -0.19325457,  0.95879883,  0.77686342],\n",
       "       [ 1.3015798 , -1.3135709 ,  1.44382805,  1.31572821],\n",
       "       [-0.85488377, -0.19325457, -0.98131805, -1.01935257],\n",
       "       [-0.70085066,  0.25487197, -1.11989782, -1.01935257],\n",
       "       [ 0.37738112, -0.6413811 ,  1.1666685 ,  0.95648502],\n",
       "       [ 0.37738112, -0.41731783,  0.95879883,  0.95648502],\n",
       "       [ 1.76367913, -0.41731783,  1.23595839,  0.95648502],\n",
       "       [ 0.37738112, -0.6413811 ,  0.88950894,  0.95648502],\n",
       "       [ 1.14754669, -1.9857607 ,  1.1666685 ,  1.31572821],\n",
       "       [ 0.22334801, -0.41731783,  0.5430595 ,  0.95648502]])"
      ]
     },
     "execution_count": 74,
     "metadata": {},
     "output_type": "execute_result"
    }
   ],
   "source": [
    "x_train"
   ]
  },
  {
   "cell_type": "code",
   "execution_count": 76,
   "metadata": {},
   "outputs": [
    {
     "name": "stderr",
     "output_type": "stream",
     "text": [
      "c:\\Users\\Joejoyal\\anaconda3\\lib\\site-packages\\sklearn\\utils\\validation.py:760: DataConversionWarning: A column-vector y was passed when a 1d array was expected. Please change the shape of y to (n_samples, ), for example using ravel().\n",
      "  y = column_or_1d(y, warn=True)\n"
     ]
    },
    {
     "data": {
      "text/plain": [
       "LogisticRegression(C=1.0, class_weight=None, dual=False, fit_intercept=True,\n",
       "                   intercept_scaling=1, l1_ratio=None, max_iter=100,\n",
       "                   multi_class='auto', n_jobs=None, penalty='l2',\n",
       "                   random_state=None, solver='lbfgs', tol=0.0001, verbose=0,\n",
       "                   warm_start=False)"
      ]
     },
     "execution_count": 76,
     "metadata": {},
     "output_type": "execute_result"
    }
   ],
   "source": [
    "logistics_binary = LogisticRegression()\n",
    "logistics_binary.fit(x_train, y_train)"
   ]
  },
  {
   "cell_type": "code",
   "execution_count": 77,
   "metadata": {},
   "outputs": [
    {
     "data": {
      "text/plain": [
       "array([1, 1, 1, 0, 0, 0, 1, 0, 1, 1, 0, 0, 1, 1, 1, 1, 0, 0, 0, 1])"
      ]
     },
     "execution_count": 77,
     "metadata": {},
     "output_type": "execute_result"
    }
   ],
   "source": [
    "logistics_binary.predict(x_test)"
   ]
  },
  {
   "cell_type": "code",
   "execution_count": 79,
   "metadata": {},
   "outputs": [
    {
     "name": "stdout",
     "output_type": "stream",
     "text": [
      "              precision    recall  f1-score   support\n",
      "\n",
      "           0       1.00      1.00      1.00         9\n",
      "           1       1.00      1.00      1.00        11\n",
      "\n",
      "    accuracy                           1.00        20\n",
      "   macro avg       1.00      1.00      1.00        20\n",
      "weighted avg       1.00      1.00      1.00        20\n",
      "\n"
     ]
    }
   ],
   "source": [
    "print(classification_report(y_test, logistics_binary.predict(x_test)))"
   ]
  },
  {
   "cell_type": "code",
   "execution_count": 80,
   "metadata": {},
   "outputs": [
    {
     "data": {
      "text/plain": [
       "array([[ 9,  0],\n",
       "       [ 0, 11]], dtype=int64)"
      ]
     },
     "execution_count": 80,
     "metadata": {},
     "output_type": "execute_result"
    }
   ],
   "source": [
    "confusion_matrix(y_test, logistics_binary.predict(x_test))"
   ]
  },
  {
   "cell_type": "code",
   "execution_count": 81,
   "metadata": {},
   "outputs": [
    {
     "data": {
      "text/plain": [
       "['logistics_binary.pkl']"
      ]
     },
     "execution_count": 81,
     "metadata": {},
     "output_type": "execute_result"
    }
   ],
   "source": [
    "joblib.dump(logistics_binary, \"logistics_binary.pkl\")"
   ]
  },
  {
   "cell_type": "code",
   "execution_count": null,
   "metadata": {},
   "outputs": [],
   "source": []
  },
  {
   "cell_type": "code",
   "execution_count": null,
   "metadata": {},
   "outputs": [],
   "source": [
    "x_train_multi, x_test_multi, y_trian_multi, y_test_multi"
   ]
  },
  {
   "cell_type": "code",
   "execution_count": null,
   "metadata": {},
   "outputs": [],
   "source": [
    "x_train_multi"
   ]
  },
  {
   "cell_type": "code",
   "execution_count": 84,
   "metadata": {},
   "outputs": [],
   "source": [
    "logistics_ovr = LogisticRegression(multi_class='ovr',solver='lbfgs',max_iter=2000)"
   ]
  },
  {
   "cell_type": "code",
   "execution_count": 85,
   "metadata": {},
   "outputs": [
    {
     "data": {
      "text/plain": [
       "LogisticRegression(C=1.0, class_weight=None, dual=False, fit_intercept=True,\n",
       "                   intercept_scaling=1, l1_ratio=None, max_iter=2000,\n",
       "                   multi_class='ovr', n_jobs=None, penalty='l2',\n",
       "                   random_state=None, solver='lbfgs', tol=0.0001, verbose=0,\n",
       "                   warm_start=False)"
      ]
     },
     "execution_count": 85,
     "metadata": {},
     "output_type": "execute_result"
    }
   ],
   "source": [
    "logistics_ovr"
   ]
  },
  {
   "cell_type": "code",
   "execution_count": 86,
   "metadata": {},
   "outputs": [
    {
     "data": {
      "text/plain": [
       "LogisticRegression(C=1.0, class_weight=None, dual=False, fit_intercept=True,\n",
       "                   intercept_scaling=1, l1_ratio=None, max_iter=2000,\n",
       "                   multi_class='ovr', n_jobs=None, penalty='l2',\n",
       "                   random_state=None, solver='lbfgs', tol=0.0001, verbose=0,\n",
       "                   warm_start=False)"
      ]
     },
     "execution_count": 86,
     "metadata": {},
     "output_type": "execute_result"
    }
   ],
   "source": [
    "logistics_ovr.fit(x_train_multi, y_trian_multi)"
   ]
  },
  {
   "cell_type": "code",
   "execution_count": 87,
   "metadata": {},
   "outputs": [
    {
     "data": {
      "text/plain": [
       "array([2, 1, 2, 2, 2, 0, 1, 1, 1, 2, 1, 0, 2, 1, 2, 0, 0, 2, 0, 1, 2, 1,\n",
       "       0, 1, 2, 2, 1, 1, 2, 1])"
      ]
     },
     "execution_count": 87,
     "metadata": {},
     "output_type": "execute_result"
    }
   ],
   "source": [
    "logistics_ovr.predict(x_test_multi)"
   ]
  },
  {
   "cell_type": "code",
   "execution_count": 89,
   "metadata": {},
   "outputs": [
    {
     "name": "stdout",
     "output_type": "stream",
     "text": [
      "classification report for ovr logistics               precision    recall  f1-score   support\n",
      "\n",
      "           0       1.00      1.00      1.00         6\n",
      "           1       0.92      0.69      0.79        16\n",
      "           2       0.58      0.88      0.70         8\n",
      "\n",
      "    accuracy                           0.80        30\n",
      "   macro avg       0.83      0.85      0.83        30\n",
      "weighted avg       0.84      0.80      0.81        30\n",
      "\n"
     ]
    }
   ],
   "source": [
    "print(\"classification report for ovr logistics\", classification_report(y_test_multi, logistics_ovr.predict(x_test_multi)))"
   ]
  },
  {
   "cell_type": "code",
   "execution_count": 90,
   "metadata": {},
   "outputs": [
    {
     "data": {
      "text/plain": [
       "array([[ 6,  0,  0],\n",
       "       [ 0, 11,  5],\n",
       "       [ 0,  1,  7]], dtype=int64)"
      ]
     },
     "execution_count": 90,
     "metadata": {},
     "output_type": "execute_result"
    }
   ],
   "source": [
    "confusion_matrix(y_test_multi, logistics_ovr.predict(x_test_multi))"
   ]
  },
  {
   "cell_type": "code",
   "execution_count": null,
   "metadata": {},
   "outputs": [],
   "source": [
    "logistics_multinomial = LogisticRegression(multi_class='multinomial',solver='lbfgs',max_iter=2000)"
   ]
  },
  {
   "cell_type": "code",
   "execution_count": 91,
   "metadata": {},
   "outputs": [
    {
     "ename": "NameError",
     "evalue": "name 'logistics_multinomial' is not defined",
     "output_type": "error",
     "traceback": [
      "\u001b[1;31m---------------------------------------------------------------------------\u001b[0m",
      "\u001b[1;31mNameError\u001b[0m                                 Traceback (most recent call last)",
      "\u001b[1;32m<ipython-input-91-a9b88d98a11a>\u001b[0m in \u001b[0;36m<module>\u001b[1;34m\u001b[0m\n\u001b[1;32m----> 1\u001b[1;33m \u001b[0mlogistics_multinomial\u001b[0m\u001b[1;33m.\u001b[0m\u001b[0mfit\u001b[0m\u001b[1;33m(\u001b[0m\u001b[0mx_train_multi\u001b[0m\u001b[1;33m,\u001b[0m\u001b[0my_trian_multi\u001b[0m\u001b[1;33m)\u001b[0m\u001b[1;33m\u001b[0m\u001b[1;33m\u001b[0m\u001b[0m\n\u001b[0m",
      "\u001b[1;31mNameError\u001b[0m: name 'logistics_multinomial' is not defined"
     ]
    }
   ],
   "source": [
    "logistics_multinomial.fit(x_train_multi,y_trian_multi)"
   ]
  },
  {
   "cell_type": "code",
   "execution_count": null,
   "metadata": {},
   "outputs": [],
   "source": []
  }
 ],
 "metadata": {
  "kernelspec": {
   "display_name": "base",
   "language": "python",
   "name": "python3"
  },
  "language_info": {
   "codemirror_mode": {
    "name": "ipython",
    "version": 3
   },
   "file_extension": ".py",
   "mimetype": "text/x-python",
   "name": "python",
   "nbconvert_exporter": "python",
   "pygments_lexer": "ipython3",
   "version": "3.7.6"
  }
 },
 "nbformat": 4,
 "nbformat_minor": 2
}
